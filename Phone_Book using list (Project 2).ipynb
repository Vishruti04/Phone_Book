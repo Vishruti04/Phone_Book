{
 "cells": [
  {
   "cell_type": "code",
   "execution_count": 9,
   "metadata": {},
   "outputs": [
    {
     "name": "stdout",
     "output_type": "stream",
     "text": [
      "   Welcome to Phone book   \n",
      "-----------------------------------------------\n",
      "\n",
      "1. Press \"A\" to add to phone book\n",
      "2. Press  \"S\" to search for contact in phone book\n",
      "3. Press \"E\" to Exit the phone book\n",
      "\n",
      "\n",
      "Enter the action you want to perform: S\n",
      "Type what you want to search: E\n",
      "Enter the action you want to perform: E\n",
      " THANK YOU \n",
      "[]\n"
     ]
    }
   ],
   "source": [
    "print('''      Welcome to Phone book   \n",
    "-----------------------------------------------\n",
    "\n",
    "1. Press \"A\" to add to phone book\n",
    "2. Press  \"S\" to search for contact in phone book\n",
    "3. Press \"E\" to Exit the phone book\n",
    "''')\n",
    "\n",
    "phone_book = []\n",
    "phone_list=[]\n",
    "\n",
    "while True:\n",
    "    user = input(\"Enter the action you want to perform: \")\n",
    "    if user == \"A\":\n",
    "        name = input(\"Enter the Name: \")\n",
    "        num  = input(\"Enter the Number: \")\n",
    "        email = input(\"Enter the email id: \")\n",
    "        \n",
    "        phone_list = [name, num, email]\n",
    "        phone_book.append(phone_list)\n",
    "        print(f\"The contact {name} has been added sucessfully\")\n",
    "        print(\"\")\n",
    "        \n",
    "    elif user == \"S\":\n",
    "        search = input(\"Type what you want to search: \")\n",
    "        \n",
    "        for phone_list in phone_book:\n",
    "            if search in phone_list:\n",
    "                print(phone_list)\n",
    "        if not found:\n",
    "            print(f\"{search} not found in Phone book click A to add\")\n",
    "            print(\"\")\n",
    "            \n",
    "    elif user == \"E\":\n",
    "        print(\" THANK YOU \")\n",
    "        break\n",
    "        \n",
    "    else:\n",
    "        print(\"Enter a valid option\")\n",
    "\n",
    "print(\"\")\n",
    "print(phone_book)"
   ]
  },
  {
   "cell_type": "code",
   "execution_count": null,
   "metadata": {},
   "outputs": [],
   "source": []
  },
  {
   "cell_type": "code",
   "execution_count": null,
   "metadata": {},
   "outputs": [],
   "source": []
  }
 ],
 "metadata": {
  "kernelspec": {
   "display_name": "Python 3",
   "language": "python",
   "name": "python3"
  },
  "language_info": {
   "codemirror_mode": {
    "name": "ipython",
    "version": 3
   },
   "file_extension": ".py",
   "mimetype": "text/x-python",
   "name": "python",
   "nbconvert_exporter": "python",
   "pygments_lexer": "ipython3",
   "version": "3.8.3"
  }
 },
 "nbformat": 4,
 "nbformat_minor": 4
}
